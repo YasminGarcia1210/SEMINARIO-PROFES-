{
  "nbformat": 4,
  "nbformat_minor": 0,
  "metadata": {
    "colab": {
      "provenance": [],
      "authorship_tag": "ABX9TyPbODOPfnw2PFE04IZXU7Sa",
      "include_colab_link": true
    },
    "kernelspec": {
      "name": "python3",
      "display_name": "Python 3"
    },
    "language_info": {
      "name": "python"
    }
  },
  "cells": [
    {
      "cell_type": "markdown",
      "metadata": {
        "id": "view-in-github",
        "colab_type": "text"
      },
      "source": [
        "<a href=\"https://colab.research.google.com/github/YasminGarcia1210/SEMINARIO-PROFES-/blob/main/CUADERNO_1_SEMI_PROFES.ipynb\" target=\"_parent\"><img src=\"https://colab.research.google.com/assets/colab-badge.svg\" alt=\"Open In Colab\"/></a>"
      ]
    },
    {
      "cell_type": "markdown",
      "source": [
        "<img src=http://www.acofi.edu.co/eiei2016/wp-content/uploads/2016/09/Logo-Universidad-ICESI.jpg width=\"150\" height=\"150\" align=\"center\">\n",
        "\n",
        "# Universidad Icesi\n",
        "\n",
        "## Seminario Profes\n",
        "\n",
        "# **Cuaderno 1**"
      ],
      "metadata": {
        "id": "vSziZpVjMaSh"
      }
    },
    {
      "cell_type": "markdown",
      "source": [
        "#**Recursos**\n",
        "\n",
        "##Cuadernos Colab\n",
        "\n",
        "<img src=https://www.marketing-branding.com/wp-content/uploads/2020/07/google-colaboratory-colab-guia-completa.jpg width=\"300\" height=\"200\"  align=\"center\">\n",
        "\n",
        "Google Colaboratory es un entorno gratuito de Jupyter Notebook que no requiere configuración y que se ejecuta completamente en la nube\n",
        "\n",
        "Colab es gratuito y forma parte de la suite de aplicaciones de Google en la nube. Por ello, para utilizarlo basta con acceder a nuestra cuenta de Google y, o bien entrar directamente al enlace de Google Colab o ir a nuestro Google Drive, pulsar el botón de «Nuevo» y desplegar el menú de «Más» para seleccionar «Colaboratory», lo que creará un nuevo cuaderno (notebook)\n"
      ],
      "metadata": {
        "id": "FjFJ6L9iM51l"
      }
    },
    {
      "cell_type": "markdown",
      "source": [
        "#Latex\n",
        "\n",
        "<img src=https://adelat.org/wp-content/uploads/2020/02/latex.png width=\"300\" height=\"200\">\n",
        "\n",
        " LaTeX, es un sistema de composición de textos, orientado a la creación de documentos escritos que presenten una alta calidad tipográfica.\n",
        "\n",
        "se usa especialemente para escritura en documentos cientificos de alto nivel\n",
        "\n",
        "*Ejemplo*\n",
        "\n",
        "f(x)=senx\n",
        "\n",
        "con LATEx\n",
        "\n",
        "$f(x)=Senx$\n",
        "\n",
        "$$f(x)=Senx$$\n",
        "\n",
        "## Escribir Simbolos en Latex\n",
        "\n",
        "[Simbolos de LaTex](https://manualdelatex.com/simbolos) : Aqui encontrarán un Manual completo para escribir simbolos de alta calidad en Latex\n",
        "\n",
        "Sin embargo, Por facilidad hay una editor de Latex en linea\n",
        "\n",
        "[Editor de LaTex en linea](https://latex.codecogs.com/eqneditor/editor.php?lang=es-es) : Con este editor puedes escribir ecuaciones de alto nivel en matemáticas. lógica y estadística"
      ],
      "metadata": {
        "id": "wUDpyUfrNC5e"
      }
    },
    {
      "cell_type": "markdown",
      "source": [
        "#Algunos comandos útiles para iniciar un cuaderno Colab\n",
        "\n",
        "**Para títulos**\n",
        "\n",
        " un # Letra Grande\n",
        "\n",
        " dos ## Letras mas pequeña\n",
        "\n",
        " Tres ### letras mas pequeña\n",
        "\n",
        "**Identación**\n",
        "\n",
        ">primer nivel\n",
        ">> segundo nivel\n",
        ">>> tercer nivel\n",
        "\n",
        "**Negrita**\n",
        "\n",
        "Use ** al inicio y culminación de la Palabra\n",
        "\n",
        "**Cursiva**\n",
        "\n",
        "*Cursiva*\n",
        "\n",
        "# Use *   o  * *  al inicio y culminación de la Palabra:  *Cursiva*  y **texto en negrita**\n",
        "\n",
        "**color**\n",
        "\n",
        "Use <font color=\"red\"> Título </font>\n",
        "\n",
        "Use <font color=\"green\"> Colores </font>\n",
        "\n",
        "Use <font color=\"FF00FF\"> Tesoro </font>\n",
        "\n",
        "Encuentre Aqui un Listado de Colores [Colores](https://www.manualweb.net/html/colores-html/)\n",
        "\n",
        "\n",
        "**Listas y Númeración**\n",
        "\n",
        "1. Esto es una lista numerada\n",
        "2. No importa el número que coloques\n",
        "45. siempre seguirá un orden\n",
        "\n",
        "\n",
        "**Esto es una lista No numerada**\n",
        "\n",
        "* Primer Elemento\n",
        "* Segundo Elemento\n",
        "\n",
        "    * Primer Elemento del segundo Elemento  (dejar 4 espacios)\n",
        "\n",
        "    * Segundo Elemento del segundo Elemento\n",
        "\n",
        "* Tercer Elemento\n",
        "\n",
        "    \n",
        "\n"
      ],
      "metadata": {
        "id": "FG0mM7_7NUb7"
      }
    },
    {
      "cell_type": "markdown",
      "source": [
        "## **Tablas sencillas**\n",
        "\n",
        "|Columna 1 | Columna 2 |\n",
        "|----------|-----------|\n",
        "|A11       |  A12      |\n",
        "|A21       | A22       |\n",
        "\n",
        "\n",
        "\n",
        "## Otra forma\n",
        "\n",
        "\\begin{array}{|c|c|}\n",
        "\\hline\n",
        "\\text{Eje x} & \\text{Eje y } \\\\\n",
        "\\hline\n",
        "1 & 1 \\\\\n",
        "2 & 2 \\\\\n",
        "3 & 3 \\\\\n",
        "4 & 4 \\\\\n",
        "5 &  5\\\\\n",
        "\\hline\n",
        "\\end{array}   "
      ],
      "metadata": {
        "id": "qRN_ct3QNXND"
      }
    },
    {
      "cell_type": "markdown",
      "source": [
        "#Python\n",
        "\n",
        "<img src=https://dc722jrlp2zu8.cloudfront.net/media/uploads/2020/10/05/python-logo.png width=\"350\" height=\"200\">\n",
        "\n",
        "Python es un lenguaje de programación ampliamente utilizado en las aplicaciones web, el desarrollo de software, la ciencia de datos y el machine learning (ML).\n",
        "\n",
        " Los desarrolladores utilizan Python porque es eficiente y fácil de aprender, además de que se puede ejecutar en muchas plataformas diferentes. El software Python se puede descargar gratis, se integra bien a todos los tipos de sistemas y aumenta la velocidad del desarrollo.\n",
        "\n",
        " Colab permite ejecutar celdas de codigo\n",
        "\n",
        "\n",
        "```\n",
        "# Esto es codigo dentro del texto\n",
        "```\n"
      ],
      "metadata": {
        "id": "eraNmqZ6NM5U"
      }
    },
    {
      "cell_type": "markdown",
      "source": [
        "\n",
        "Comando básicos de operaciones\n",
        "\n",
        "<img src=https://3.bp.blogspot.com/-FAPUGjLbvjo/WGnUN6T733I/AAAAAAAAABI/bJyGcPtMKxEQbx_HQjcsPRUoHi3bpGoIgCLcB/s1600/operadoresPython.png width=\"400\" height=\"400\" align=\"center\">"
      ],
      "metadata": {
        "id": "yEEs8Wj9O7Ni"
      }
    },
    {
      "cell_type": "code",
      "source": [],
      "metadata": {
        "id": "NyLY3q6zjbOS"
      },
      "execution_count": null,
      "outputs": []
    },
    {
      "cell_type": "markdown",
      "source": [
        "##Tipos de datos en Python\n",
        "\n",
        "**Comentarios**\n",
        "\n",
        "\n",
        "```\n",
        "# Esto es un comentario\n",
        "```\n",
        "\n",
        "\n",
        "**Cadenas [string]**\n",
        "```\n",
        "\"Esto es una cadena\"\n",
        "```\n",
        "\n",
        "**Números**\n",
        "\n",
        "Existen dos tipos de número Reales en Python\n",
        "\n",
        "\n",
        "#### Enteros\n",
        "\n",
        "```\n",
        "Estos son enteros [int]\n",
        "\n",
        "3\n",
        "\n",
        "2+3\n",
        "\n",
        "x=1\n",
        "\n",
        "y=2+x\n",
        "\n",
        "z= 3*5\n",
        "```\n",
        "\n",
        "#### Flotantes\n",
        "\n",
        "```\n",
        "Estos son Flotantes [float]\n",
        "\n",
        "x=1.1\n",
        "\n",
        "y= 1.1*10**{-2}\n",
        "\n",
        "\n",
        "```\n",
        "\n",
        "#### Complejos\n",
        "\n",
        "Se componen de la parte Real y su parte imaginaria (esta parte se representa con j)\n",
        "\n",
        "```\n",
        "Estos son complejos\n",
        "\n",
        "x= <parte real> + <parte imaginaria + j>\n",
        "\n",
        "#j es la variable reservada para complejos\n",
        "\n",
        "c=2+3j\n",
        "```\n",
        "\n",
        "**Booleanos**\n",
        "\n",
        "Esta clase solo se puede instanciar con dos valores/objetos: True para representar verdadero y False para representar falso.\n",
        "\n",
        "\n",
        "```\n",
        "a==b\n",
        "\n",
        "a!=b\n",
        "\n",
        "a<b, a>b, a<=b , a>=b\n",
        "```\n"
      ],
      "metadata": {
        "id": "GvZX0BPmReKl"
      }
    },
    {
      "cell_type": "markdown",
      "source": [
        "##Cambio de Type de Datos\n",
        "\n",
        "¿Cómo puedo tratar la variable Número de Calcular como un dato distinto a numérico?\n",
        "\n",
        "Convirtiéndola a un tipo str.\n",
        "\n",
        "Para ello, Python ofrece las siguientes funciones:\n",
        "\n",
        "* str( ): Devuelve la representación en cadena de caracteres del objeto que se pasa como parámetro.\n",
        "* int( ): Devuelve un int a partir de un número o secuencia de caracteres.\n",
        "* float( ): Devuelve un float a partir de un número o secuencia de caracteres.\n",
        "* complex(): Devuelve un complex a partir de un número o secuencia de caracteres.\n",
        "\n",
        "Nota: Si a las funciones anteriores se les pasa como parámetro un valor inválido, el intérprete mostrará un error."
      ],
      "metadata": {
        "id": "rtwzUZD4Ubp9"
      }
    },
    {
      "cell_type": "markdown",
      "source": [
        "# Variables\n",
        "\n",
        "Las variables son lugares donde podemos reservar o guardar información que puede ser usada más adelante\n",
        "\n",
        "Podemos asignar el nombre que queramos, respetando no usar las palabras **reservadas** de Python ni espacios, guiones o números al principio."
      ],
      "metadata": {
        "id": "LFVGK_XnVFXu"
      }
    },
    {
      "cell_type": "code",
      "source": [
        "# Estos son ejemplos de Variables\n",
        "\n",
        "\n",
        "\n",
        "#Tambien puedo almacenar cadenas\n",
        "\n"
      ],
      "metadata": {
        "id": "D8X6IZZol2Jo"
      },
      "execution_count": null,
      "outputs": []
    },
    {
      "cell_type": "markdown",
      "source": [
        "# Llamar las Variables"
      ],
      "metadata": {
        "id": "kvZKZd0vmqf7"
      }
    },
    {
      "cell_type": "code",
      "source": [],
      "metadata": {
        "colab": {
          "base_uri": "https://localhost:8080/"
        },
        "id": "GE8w7kh4mU-I",
        "outputId": "1a21ca15-a9a6-4479-db4a-b103e1586e3d"
      },
      "execution_count": null,
      "outputs": [
        {
          "output_type": "execute_result",
          "data": {
            "text/plain": [
              "1"
            ]
          },
          "metadata": {},
          "execution_count": 14
        }
      ]
    },
    {
      "cell_type": "code",
      "source": [],
      "metadata": {
        "colab": {
          "base_uri": "https://localhost:8080/"
        },
        "id": "kT9lCuHOmtgq",
        "outputId": "2fbe311a-dd7a-4abd-d5f5-079d298f5ccd"
      },
      "execution_count": null,
      "outputs": [
        {
          "output_type": "execute_result",
          "data": {
            "text/plain": [
              "3"
            ]
          },
          "metadata": {},
          "execution_count": 15
        }
      ]
    },
    {
      "cell_type": "markdown",
      "source": [
        "## Función print()"
      ],
      "metadata": {
        "id": "np7Cutuum8Xq"
      }
    },
    {
      "cell_type": "code",
      "source": [],
      "metadata": {
        "id": "8s-OD62TmvCK"
      },
      "execution_count": null,
      "outputs": []
    }
  ]
}